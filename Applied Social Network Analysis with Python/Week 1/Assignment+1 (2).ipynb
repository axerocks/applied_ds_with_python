{
 "cells": [
  {
   "cell_type": "markdown",
   "metadata": {},
   "source": [
    "---\n",
    "\n",
    "_You are currently looking at **version 1.1** of this notebook. To download notebooks and datafiles, as well as get help on Jupyter notebooks in the Coursera platform, visit the [Jupyter Notebook FAQ](https://www.coursera.org/learn/python-social-network-analysis/resources/yPcBs) course resource._\n",
    "\n",
    "---"
   ]
  },
  {
   "cell_type": "markdown",
   "metadata": {},
   "source": [
    "# Assignment 1 - Creating and Manipulating Graphs\n",
    "\n",
    "Eight employees at a small company were asked to choose 3 movies that they would most enjoy watching for the upcoming company movie night. These choices are stored in the file `Employee_Movie_Choices.txt`.\n",
    "\n",
    "A second file, `Employee_Relationships.txt`, has data on the relationships between different coworkers. \n",
    "\n",
    "The relationship score has value of `-100` (Enemies) to `+100` (Best Friends). A value of zero means the two employees haven't interacted or are indifferent.\n",
    "\n",
    "Both files are tab delimited."
   ]
  },
  {
   "cell_type": "code",
   "execution_count": 1,
   "metadata": {
    "collapsed": true
   },
   "outputs": [],
   "source": [
    "import networkx as nx\n",
    "import pandas as pd\n",
    "import numpy as np\n",
    "from networkx.algorithms import bipartite\n",
    "\n",
    "\n",
    "# This is the set of employees\n",
    "employees = set(['Pablo',\n",
    "                 'Lee',\n",
    "                 'Georgia',\n",
    "                 'Vincent',\n",
    "                 'Andy',\n",
    "                 'Frida',\n",
    "                 'Joan',\n",
    "                 'Claude'])\n",
    "\n",
    "# This is the set of movies\n",
    "movies = set(['The Shawshank Redemption',\n",
    "              'Forrest Gump',\n",
    "              'The Matrix',\n",
    "              'Anaconda',\n",
    "              'The Social Network',\n",
    "              'The Godfather',\n",
    "              'Monty Python and the Holy Grail',\n",
    "              'Snakes on a Plane',\n",
    "              'Kung Fu Panda',\n",
    "              'The Dark Knight',\n",
    "              'Mean Girls'])\n",
    "\n",
    "\n",
    "# you can use the following function to plot graphs\n",
    "# make sure to comment it out before submitting to the autograder\n",
    "def plot_graph(G, weight_name=None):\n",
    "    '''\n",
    "    G: a networkx G\n",
    "    weight_name: name of the attribute for plotting edge weights (if G is weighted)\n",
    "    '''\n",
    "    %matplotlib notebook\n",
    "    import matplotlib.pyplot as plt\n",
    "    \n",
    "    plt.figure()\n",
    "    pos = nx.spring_layout(G)\n",
    "    edges = G.edges()\n",
    "    weights = None\n",
    "    \n",
    "    if weight_name:\n",
    "        weights = [int(G[u][v][weight_name]) for u,v in edges]\n",
    "        labels = nx.get_edge_attributes(G,weight_name)\n",
    "        nx.draw_networkx_edge_labels(G,pos,edge_labels=labels)\n",
    "        nx.draw_networkx(G, pos, edges=edges, width=weights);\n",
    "    else:\n",
    "        nx.draw_networkx(G, pos, edges=edges, font_size = 8);"
   ]
  },
  {
   "cell_type": "markdown",
   "metadata": {},
   "source": [
    "### Question 1\n",
    "\n",
    "Using NetworkX, load in the bipartite graph from `Employee_Movie_Choices.txt` and return that graph.\n",
    "\n",
    "*This function should return a networkx graph with 19 nodes and 24 edges*"
   ]
  },
  {
   "cell_type": "code",
   "execution_count": 2,
   "metadata": {},
   "outputs": [
    {
     "data": {
      "text/plain": [
       "<networkx.classes.graph.Graph at 0x7f94bf7030f0>"
      ]
     },
     "execution_count": 2,
     "metadata": {},
     "output_type": "execute_result"
    }
   ],
   "source": [
    "def answer_one():\n",
    "        \n",
    "    movie_choices = pd.read_table('Employee_Movie_Choices.txt',sep = '\\t')\n",
    "    \n",
    "    # Get list of unique employess and movies\n",
    "    employees = movie_choices['#Employee'].unique()\n",
    "    movies = movie_choices['Movie'].unique()\n",
    "    \n",
    "    subset = movie_choices[['#Employee', 'Movie']]\n",
    "    edges = [tuple(x) for x in subset.values]\n",
    "    \n",
    "    B = nx.Graph()\n",
    "    B.add_nodes_from(employees, bipartite = 0)\n",
    "    B.add_nodes_from(movies, bipartite = 1)\n",
    "    B.add_edges_from(edges)\n",
    "    \n",
    "    #plot_graph(B)\n",
    "    \n",
    "    return B\n",
    "\n",
    "answer_one()"
   ]
  },
  {
   "cell_type": "markdown",
   "metadata": {},
   "source": [
    "### Question 2\n",
    "\n",
    "Using the graph from the previous question, add nodes attributes named `'type'` where movies have the value `'movie'` and employees have the value `'employee'` and return that graph.\n",
    "\n",
    "*This function should return a networkx graph with node attributes `{'type': 'movie'}` or `{'type': 'employee'}`*"
   ]
  },
  {
   "cell_type": "code",
   "execution_count": 3,
   "metadata": {},
   "outputs": [
    {
     "data": {
      "text/plain": [
       "<networkx.classes.graph.Graph at 0x7f9494d3c860>"
      ]
     },
     "execution_count": 3,
     "metadata": {},
     "output_type": "execute_result"
    }
   ],
   "source": [
    "def answer_two():\n",
    "    \n",
    "    movie_choices = pd.read_table('Employee_Movie_Choices.txt',sep = '\\t')\n",
    "    \n",
    "    # Get list of unique employess and movies\n",
    "    employees = list(movie_choices['#Employee'].unique())    \n",
    "    empolyee_nodes = []\n",
    "    for i in range(0,len(employees)):\n",
    "        add_node = (employees[i],{'type':'employee'})\n",
    "        empolyee_nodes.append(add_node)\n",
    "    \n",
    "    movies = list(movie_choices['Movie'].unique())\n",
    "    movie_nodes = []\n",
    "    for i in range(0,len(movies)):\n",
    "        add_node = (movies[i],{'type':'movie'})\n",
    "        movie_nodes.append(add_node)\n",
    "    \n",
    "    subset = movie_choices[['#Employee', 'Movie']]\n",
    "    edges = [tuple(x) for x in subset.values]\n",
    "    \n",
    "    B = nx.Graph()\n",
    "    B.add_nodes_from(empolyee_nodes, bipartite = 0)\n",
    "    B.add_nodes_from(movie_nodes, bipartite = 1)\n",
    "    B.add_edges_from(edges)\n",
    "    \n",
    "    return B\n",
    "\n",
    "answer_two()"
   ]
  },
  {
   "cell_type": "markdown",
   "metadata": {
    "collapsed": true
   },
   "source": [
    "### Question 3\n",
    "\n",
    "Find a weighted projection of the graph from `answer_two` which tells us how many movies different pairs of employees have in common.\n",
    "\n",
    "*This function should return a weighted projected graph.*"
   ]
  },
  {
   "cell_type": "code",
   "execution_count": 31,
   "metadata": {},
   "outputs": [
    {
     "data": {
      "text/plain": [
       "<networkx.classes.graph.Graph at 0x7f94940556d8>"
      ]
     },
     "execution_count": 31,
     "metadata": {},
     "output_type": "execute_result"
    }
   ],
   "source": [
    "def answer_three():\n",
    "        \n",
    "    movie_choices = pd.read_table('Employee_Movie_Choices.txt',sep = '\\t')\n",
    "    \n",
    "    # Get list of unique employess and movies\n",
    "    employees = list(movie_choices['#Employee'].unique())    \n",
    "    empolyee_nodes = []\n",
    "    for i in range(0,len(employees)):\n",
    "        add_node = (employees[i],{'type':'employee'})\n",
    "        empolyee_nodes.append(add_node)\n",
    "    \n",
    "    movies = list(movie_choices['Movie'].unique())\n",
    "    movie_nodes = []\n",
    "    for i in range(0,len(movies)):\n",
    "        add_node = (movies[i],{'type':'movie'})\n",
    "        movie_nodes.append(add_node)\n",
    "    \n",
    "    subset = movie_choices[['#Employee', 'Movie']]\n",
    "    edges = [tuple(x) for x in subset.values]\n",
    "    \n",
    "    B = nx.Graph()\n",
    "    B.add_nodes_from(empolyee_nodes, bipartite = 0)\n",
    "    B.add_nodes_from(movie_nodes, bipartite = 1)\n",
    "    B.add_edges_from(edges)\n",
    "    \n",
    "    employees = set(employees)\n",
    "    P = bipartite.weighted_projected_graph(B,employees)\n",
    "    \n",
    "    return P\n",
    "\n",
    "answer_three()"
   ]
  },
  {
   "cell_type": "markdown",
   "metadata": {
    "collapsed": true
   },
   "source": [
    "### Question 4\n",
    "\n",
    "Suppose you'd like to find out if people that have a high relationship score also like the same types of movies.\n",
    "\n",
    "Find the Pearson correlation ( using `DataFrame.corr()` ) between employee relationship scores and the number of movies they have in common. If two employees have no movies in common it should be treated as a 0, not a missing value, and should be included in the correlation calculation.\n",
    "\n",
    "*This function should return a float.*"
   ]
  },
  {
   "cell_type": "code",
   "execution_count": 97,
   "metadata": {},
   "outputs": [
    {
     "data": {
      "text/plain": [
       "0.78839622217334759"
      ]
     },
     "execution_count": 97,
     "metadata": {},
     "output_type": "execute_result"
    }
   ],
   "source": [
    "def answer_four():\n",
    "        \n",
    "    relationships = pd.read_table('Employee_Relationships.txt', \n",
    "                                  sep = '\\t',\n",
    "                                 header = None,\n",
    "                                 names = ['emp1','emp2','score'])\n",
    "    \n",
    "    movie_choices = pd.read_table('Employee_Movie_Choices.txt',sep = '\\t')\n",
    "    \n",
    "    # Get list of unique employess and movies\n",
    "    employees = list(movie_choices['#Employee'].unique())    \n",
    "    empolyee_nodes = []\n",
    "    for i in range(0,len(employees)):\n",
    "        add_node = (employees[i],{'type':'employee'})\n",
    "        empolyee_nodes.append(add_node)\n",
    "    \n",
    "    movies = list(movie_choices['Movie'].unique())\n",
    "    movie_nodes = []\n",
    "    for i in range(0,len(movies)):\n",
    "        add_node = (movies[i],{'type':'movie'})\n",
    "        movie_nodes.append(add_node)\n",
    "    \n",
    "    subset = movie_choices[['#Employee', 'Movie']]\n",
    "    edges = [tuple(x) for x in subset.values]\n",
    "    \n",
    "    B = nx.Graph()\n",
    "    B.add_nodes_from(empolyee_nodes, bipartite = 0)\n",
    "    B.add_nodes_from(movie_nodes, bipartite = 1)\n",
    "    B.add_edges_from(edges)\n",
    "    \n",
    "    employees = set(employees)\n",
    "    P = bipartite.weighted_projected_graph(B,employees)\n",
    "    \n",
    "    edges_df = pd.DataFrame(P.edges(data=True), columns = ['emp1','emp2','common'])\n",
    "    edges_df['common'] = edges_df['common'].map(lambda x: x['weight'])\n",
    "    \n",
    "    edges_df2 = pd.DataFrame(edges_df['common'])\n",
    "    edges_df2['emp1'] = edges_df['emp2']\n",
    "    edges_df2['emp2'] = edges_df['emp1']\n",
    "    \n",
    "    edges_final = edges_df.append(edges_df2)\n",
    "    \n",
    "    relationships_common = relationships.merge(edges_final, how = 'left', on = ['emp1','emp2'])\n",
    "    \n",
    "    relationships_common['common'] = relationships_common['common'].fillna(0,)\n",
    "    corr_df = relationships_common[['score','common']]\n",
    "    \n",
    "    final_corr = corr_df.corr()\n",
    "    \n",
    "    output = final_corr.loc['score']['common']\n",
    "    \n",
    "    return output\n",
    "\n",
    "\n",
    "answer_four()"
   ]
  },
  {
   "cell_type": "code",
   "execution_count": null,
   "metadata": {
    "collapsed": true
   },
   "outputs": [],
   "source": []
  }
 ],
 "metadata": {
  "coursera": {
   "course_slug": "python-social-network-analysis",
   "graded_item_id": "YNa9b",
   "launcher_item_id": "hvNc1",
   "part_id": "VbyiB"
  },
  "kernelspec": {
   "display_name": "Python 3",
   "language": "python",
   "name": "python3"
  },
  "language_info": {
   "codemirror_mode": {
    "name": "ipython",
    "version": 3
   },
   "file_extension": ".py",
   "mimetype": "text/x-python",
   "name": "python",
   "nbconvert_exporter": "python",
   "pygments_lexer": "ipython3",
   "version": "3.6.0"
  }
 },
 "nbformat": 4,
 "nbformat_minor": 2
}
