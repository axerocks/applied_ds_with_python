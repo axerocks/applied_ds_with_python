{
 "cells": [
  {
   "cell_type": "markdown",
   "metadata": {},
   "source": [
    "---\n",
    "\n",
    "_You are currently looking at **version 1.0** of this notebook. To download notebooks and datafiles, as well as get help on Jupyter notebooks in the Coursera platform, visit the [Jupyter Notebook FAQ](https://www.coursera.org/learn/python-data-analysis/resources/0dhYG) course resource._\n",
    "\n",
    "---"
   ]
  },
  {
   "cell_type": "markdown",
   "metadata": {},
   "source": [
    "# Assignment 3 - More Pandas\n",
    "All questions are weighted the same in this assignment. This assignment requires more individual learning then the last one did - you are encouraged to check out the [pandas documentation](http://pandas.pydata.org/pandas-docs/stable/) to find functions or methods you might not have used yet, or ask questions on [Stack Overflow](http://stackoverflow.com/) and tag them as pandas and python related. And of course, the discussion forums are open for interaction with your peers and the course staff."
   ]
  },
  {
   "cell_type": "markdown",
   "metadata": {},
   "source": [
    "### Question 1\n",
    "Load the energy data from the file `Energy Indicators.xls`, which is a list of indicators of [energy supply and renewable electricity production](Energy%20Indicators.xls) from the [United Nations](http://unstats.un.org/unsd/environment/excel_file_tables/2013/Energy%20Indicators.xls) for the year 2013, and should be put into a DataFrame with the variable name of **energy**.\n",
    "\n",
    "Keep in mind that this is an Excel file, and not a comma separated values file. Also, make sure to exclude the footer and header information from the datafile. The first two columns are unneccessary, so you should get rid of them, and you should change the column labels so that the columns are:\n",
    "\n",
    "`['Country', 'Energy Supply', 'Energy Supply per Capita', '% Renewable's]`\n",
    "\n",
    "Convert the energy supply and the energy supply per capita to gigajoules (there are 1,000,000 gigajoules in a petajoule). For all countries which have missing data (e.g. data with \"...\") make sure this is reflected as `np.NaN` values.\n",
    "\n",
    "Rename the following list of countries (for use in later questions):\n",
    "\n",
    "```\"Republic of Korea\": \"South Korea\",\n",
    "\"United States of America\": \"United States\",\n",
    "\"United Kingdom of Great Britain and Northern Ireland\": \"United Kingdom\",\n",
    "\"China, Hong Kong Special Administrative Region\": \"Hong Kong\"```\n",
    "\n",
    "There are also several countries with parenthesis in their name. Be sure to remove these, e.g. `'Bolivia (Plurinational State of)'` should be `'Bolivia'`.\n",
    "\n",
    "<br>\n",
    "\n",
    "Next, load the GDP data from the file `world_bank.csv`, which is a csv containing countries' GDP from 1960 to 2015 from [World Bank](http://data.worldbank.org/indicator/NY.GDP.MKTP.CD). Call this DataFrame **GDP**. \n",
    "\n",
    "Make sure to skip the header, and rename the following list of countries:\n",
    "\n",
    "```\"Korea, Rep.\": \"South Korea\", \n",
    "\"Iran, Islamic Rep.\": \"Iran\",\n",
    "\"Hong Kong SAR, China\": \"Hong Kong\"```\n",
    "\n",
    "<br>\n",
    "\n",
    "Finally, load the [Sciamgo Journal and Country Rank data for Energy Engineering and Power Technology](http://www.scimagojr.com/countryrank.php?category=2102), which ranks countries based on their journal contributions in the aforementioned area. Call this DataFrame **ScimEn**.\n",
    "\n",
    "Join the three datasets: GDP, Energy, and ScimEn into a new dataset (using the intersection of country names). Use only the last 10 years (2006-2015) of GDP data and only the top 15 countries by Scimagojr 'Rank' (Rank 1 through 15). \n",
    "\n",
    "The index of this DataFrame should be the name of the country.\n",
    "\n",
    "*This function should return a DataFrame with 20 columns and 15 entries.*"
   ]
  },
  {
   "cell_type": "code",
   "execution_count": 135,
   "metadata": {
    "collapsed": false
   },
   "outputs": [
    {
     "data": {
      "text/html": [
       "<div>\n",
       "<table border=\"1\" class=\"dataframe\">\n",
       "  <thead>\n",
       "    <tr style=\"text-align: right;\">\n",
       "      <th></th>\n",
       "      <th>2006</th>\n",
       "      <th>2007</th>\n",
       "      <th>2008</th>\n",
       "      <th>2009</th>\n",
       "      <th>2010</th>\n",
       "      <th>2011</th>\n",
       "      <th>2012</th>\n",
       "      <th>2013</th>\n",
       "      <th>2014</th>\n",
       "      <th>2015</th>\n",
       "      <th>Energy Supply</th>\n",
       "      <th>Energy Supply per Capita</th>\n",
       "      <th>% Renewable</th>\n",
       "      <th>Rank</th>\n",
       "      <th>Documents</th>\n",
       "      <th>Citable documents</th>\n",
       "      <th>Citations</th>\n",
       "      <th>Self-citations</th>\n",
       "      <th>Citations per document</th>\n",
       "      <th>H index</th>\n",
       "    </tr>\n",
       "    <tr>\n",
       "      <th>Country</th>\n",
       "      <th></th>\n",
       "      <th></th>\n",
       "      <th></th>\n",
       "      <th></th>\n",
       "      <th></th>\n",
       "      <th></th>\n",
       "      <th></th>\n",
       "      <th></th>\n",
       "      <th></th>\n",
       "      <th></th>\n",
       "      <th></th>\n",
       "      <th></th>\n",
       "      <th></th>\n",
       "      <th></th>\n",
       "      <th></th>\n",
       "      <th></th>\n",
       "      <th></th>\n",
       "      <th></th>\n",
       "      <th></th>\n",
       "      <th></th>\n",
       "    </tr>\n",
       "  </thead>\n",
       "  <tbody>\n",
       "    <tr>\n",
       "      <th>Australia</th>\n",
       "      <td>1.021939e+12</td>\n",
       "      <td>1.060340e+12</td>\n",
       "      <td>1.099644e+12</td>\n",
       "      <td>1.119654e+12</td>\n",
       "      <td>1.142251e+12</td>\n",
       "      <td>1.169431e+12</td>\n",
       "      <td>1.211913e+12</td>\n",
       "      <td>1.241484e+12</td>\n",
       "      <td>1.272520e+12</td>\n",
       "      <td>1.301251e+12</td>\n",
       "      <td>5.386000e+09</td>\n",
       "      <td>231.0</td>\n",
       "      <td>11.810810</td>\n",
       "      <td>14.0</td>\n",
       "      <td>8831</td>\n",
       "      <td>8725</td>\n",
       "      <td>90765</td>\n",
       "      <td>15606</td>\n",
       "      <td>10.28</td>\n",
       "      <td>107</td>\n",
       "    </tr>\n",
       "    <tr>\n",
       "      <th>Brazil</th>\n",
       "      <td>1.845080e+12</td>\n",
       "      <td>1.957118e+12</td>\n",
       "      <td>2.056809e+12</td>\n",
       "      <td>2.054215e+12</td>\n",
       "      <td>2.208872e+12</td>\n",
       "      <td>2.295245e+12</td>\n",
       "      <td>2.339209e+12</td>\n",
       "      <td>2.409740e+12</td>\n",
       "      <td>2.412231e+12</td>\n",
       "      <td>2.319423e+12</td>\n",
       "      <td>1.214900e+10</td>\n",
       "      <td>59.0</td>\n",
       "      <td>69.648030</td>\n",
       "      <td>15.0</td>\n",
       "      <td>8668</td>\n",
       "      <td>8596</td>\n",
       "      <td>60702</td>\n",
       "      <td>14396</td>\n",
       "      <td>7.00</td>\n",
       "      <td>86</td>\n",
       "    </tr>\n",
       "    <tr>\n",
       "      <th>Canada</th>\n",
       "      <td>1.564469e+12</td>\n",
       "      <td>1.596740e+12</td>\n",
       "      <td>1.612713e+12</td>\n",
       "      <td>1.565145e+12</td>\n",
       "      <td>1.613406e+12</td>\n",
       "      <td>1.664087e+12</td>\n",
       "      <td>1.693133e+12</td>\n",
       "      <td>1.730688e+12</td>\n",
       "      <td>1.773486e+12</td>\n",
       "      <td>1.792609e+12</td>\n",
       "      <td>1.043100e+10</td>\n",
       "      <td>296.0</td>\n",
       "      <td>61.945430</td>\n",
       "      <td>6.0</td>\n",
       "      <td>17899</td>\n",
       "      <td>17620</td>\n",
       "      <td>215003</td>\n",
       "      <td>40930</td>\n",
       "      <td>12.01</td>\n",
       "      <td>149</td>\n",
       "    </tr>\n",
       "    <tr>\n",
       "      <th>China</th>\n",
       "      <td>3.992331e+12</td>\n",
       "      <td>4.559041e+12</td>\n",
       "      <td>4.997775e+12</td>\n",
       "      <td>5.459247e+12</td>\n",
       "      <td>6.039659e+12</td>\n",
       "      <td>6.612490e+12</td>\n",
       "      <td>7.124978e+12</td>\n",
       "      <td>7.672448e+12</td>\n",
       "      <td>8.230121e+12</td>\n",
       "      <td>8.797999e+12</td>\n",
       "      <td>1.271910e+11</td>\n",
       "      <td>93.0</td>\n",
       "      <td>19.754910</td>\n",
       "      <td>1.0</td>\n",
       "      <td>127050</td>\n",
       "      <td>126767</td>\n",
       "      <td>597237</td>\n",
       "      <td>411683</td>\n",
       "      <td>4.70</td>\n",
       "      <td>138</td>\n",
       "    </tr>\n",
       "    <tr>\n",
       "      <th>Germany</th>\n",
       "      <td>3.332891e+12</td>\n",
       "      <td>3.441561e+12</td>\n",
       "      <td>3.478809e+12</td>\n",
       "      <td>3.283340e+12</td>\n",
       "      <td>3.417298e+12</td>\n",
       "      <td>3.542371e+12</td>\n",
       "      <td>3.556724e+12</td>\n",
       "      <td>3.567317e+12</td>\n",
       "      <td>3.624386e+12</td>\n",
       "      <td>3.685556e+12</td>\n",
       "      <td>1.326100e+10</td>\n",
       "      <td>165.0</td>\n",
       "      <td>17.901530</td>\n",
       "      <td>7.0</td>\n",
       "      <td>17027</td>\n",
       "      <td>16831</td>\n",
       "      <td>140566</td>\n",
       "      <td>27426</td>\n",
       "      <td>8.26</td>\n",
       "      <td>126</td>\n",
       "    </tr>\n",
       "    <tr>\n",
       "      <th>Spain</th>\n",
       "      <td>1.414823e+12</td>\n",
       "      <td>1.468146e+12</td>\n",
       "      <td>1.484530e+12</td>\n",
       "      <td>1.431475e+12</td>\n",
       "      <td>1.431673e+12</td>\n",
       "      <td>1.417355e+12</td>\n",
       "      <td>1.380216e+12</td>\n",
       "      <td>1.357139e+12</td>\n",
       "      <td>1.375605e+12</td>\n",
       "      <td>1.419821e+12</td>\n",
       "      <td>4.923000e+09</td>\n",
       "      <td>106.0</td>\n",
       "      <td>37.968590</td>\n",
       "      <td>12.0</td>\n",
       "      <td>9428</td>\n",
       "      <td>9330</td>\n",
       "      <td>123336</td>\n",
       "      <td>23964</td>\n",
       "      <td>13.08</td>\n",
       "      <td>115</td>\n",
       "    </tr>\n",
       "    <tr>\n",
       "      <th>France</th>\n",
       "      <td>2.607840e+12</td>\n",
       "      <td>2.669424e+12</td>\n",
       "      <td>2.674637e+12</td>\n",
       "      <td>2.595967e+12</td>\n",
       "      <td>2.646995e+12</td>\n",
       "      <td>2.702032e+12</td>\n",
       "      <td>2.706968e+12</td>\n",
       "      <td>2.722567e+12</td>\n",
       "      <td>2.729632e+12</td>\n",
       "      <td>2.761185e+12</td>\n",
       "      <td>1.059700e+10</td>\n",
       "      <td>166.0</td>\n",
       "      <td>17.020280</td>\n",
       "      <td>9.0</td>\n",
       "      <td>13153</td>\n",
       "      <td>12973</td>\n",
       "      <td>130632</td>\n",
       "      <td>28601</td>\n",
       "      <td>9.93</td>\n",
       "      <td>114</td>\n",
       "    </tr>\n",
       "    <tr>\n",
       "      <th>United Kingdom</th>\n",
       "      <td>2.419631e+12</td>\n",
       "      <td>2.482203e+12</td>\n",
       "      <td>2.470614e+12</td>\n",
       "      <td>2.367048e+12</td>\n",
       "      <td>2.403504e+12</td>\n",
       "      <td>2.450911e+12</td>\n",
       "      <td>2.479809e+12</td>\n",
       "      <td>2.533370e+12</td>\n",
       "      <td>2.605643e+12</td>\n",
       "      <td>2.666333e+12</td>\n",
       "      <td>7.920000e+09</td>\n",
       "      <td>124.0</td>\n",
       "      <td>10.600470</td>\n",
       "      <td>4.0</td>\n",
       "      <td>20944</td>\n",
       "      <td>20357</td>\n",
       "      <td>206091</td>\n",
       "      <td>37874</td>\n",
       "      <td>9.84</td>\n",
       "      <td>139</td>\n",
       "    </tr>\n",
       "    <tr>\n",
       "      <th>India</th>\n",
       "      <td>1.265894e+12</td>\n",
       "      <td>1.374865e+12</td>\n",
       "      <td>1.428361e+12</td>\n",
       "      <td>1.549483e+12</td>\n",
       "      <td>1.708459e+12</td>\n",
       "      <td>1.821872e+12</td>\n",
       "      <td>1.924235e+12</td>\n",
       "      <td>2.051982e+12</td>\n",
       "      <td>2.200617e+12</td>\n",
       "      <td>2.367206e+12</td>\n",
       "      <td>3.319500e+10</td>\n",
       "      <td>26.0</td>\n",
       "      <td>14.969080</td>\n",
       "      <td>8.0</td>\n",
       "      <td>15005</td>\n",
       "      <td>14841</td>\n",
       "      <td>128763</td>\n",
       "      <td>37209</td>\n",
       "      <td>8.58</td>\n",
       "      <td>115</td>\n",
       "    </tr>\n",
       "    <tr>\n",
       "      <th>Iran</th>\n",
       "      <td>3.895523e+11</td>\n",
       "      <td>4.250646e+11</td>\n",
       "      <td>4.289909e+11</td>\n",
       "      <td>4.389208e+11</td>\n",
       "      <td>4.677902e+11</td>\n",
       "      <td>4.853309e+11</td>\n",
       "      <td>4.532569e+11</td>\n",
       "      <td>4.445926e+11</td>\n",
       "      <td>4.639027e+11</td>\n",
       "      <td>NaN</td>\n",
       "      <td>9.172000e+09</td>\n",
       "      <td>119.0</td>\n",
       "      <td>5.707721</td>\n",
       "      <td>13.0</td>\n",
       "      <td>8896</td>\n",
       "      <td>8819</td>\n",
       "      <td>57470</td>\n",
       "      <td>19125</td>\n",
       "      <td>6.46</td>\n",
       "      <td>72</td>\n",
       "    </tr>\n",
       "    <tr>\n",
       "      <th>Italy</th>\n",
       "      <td>2.202170e+12</td>\n",
       "      <td>2.234627e+12</td>\n",
       "      <td>2.211154e+12</td>\n",
       "      <td>2.089938e+12</td>\n",
       "      <td>2.125185e+12</td>\n",
       "      <td>2.137439e+12</td>\n",
       "      <td>2.077184e+12</td>\n",
       "      <td>2.040871e+12</td>\n",
       "      <td>2.033868e+12</td>\n",
       "      <td>2.049316e+12</td>\n",
       "      <td>6.530000e+09</td>\n",
       "      <td>109.0</td>\n",
       "      <td>33.667230</td>\n",
       "      <td>11.0</td>\n",
       "      <td>10964</td>\n",
       "      <td>10794</td>\n",
       "      <td>111850</td>\n",
       "      <td>26661</td>\n",
       "      <td>10.20</td>\n",
       "      <td>106</td>\n",
       "    </tr>\n",
       "    <tr>\n",
       "      <th>Japan</th>\n",
       "      <td>5.496542e+12</td>\n",
       "      <td>5.617036e+12</td>\n",
       "      <td>5.558527e+12</td>\n",
       "      <td>5.251308e+12</td>\n",
       "      <td>5.498718e+12</td>\n",
       "      <td>5.473738e+12</td>\n",
       "      <td>5.569102e+12</td>\n",
       "      <td>5.644659e+12</td>\n",
       "      <td>5.642884e+12</td>\n",
       "      <td>5.669563e+12</td>\n",
       "      <td>1.898400e+10</td>\n",
       "      <td>149.0</td>\n",
       "      <td>10.232820</td>\n",
       "      <td>3.0</td>\n",
       "      <td>30504</td>\n",
       "      <td>30287</td>\n",
       "      <td>223024</td>\n",
       "      <td>61554</td>\n",
       "      <td>7.31</td>\n",
       "      <td>134</td>\n",
       "    </tr>\n",
       "    <tr>\n",
       "      <th>South Korea</th>\n",
       "      <td>9.410199e+11</td>\n",
       "      <td>9.924316e+11</td>\n",
       "      <td>1.020510e+12</td>\n",
       "      <td>1.027730e+12</td>\n",
       "      <td>1.094499e+12</td>\n",
       "      <td>1.134796e+12</td>\n",
       "      <td>1.160809e+12</td>\n",
       "      <td>1.194429e+12</td>\n",
       "      <td>1.234340e+12</td>\n",
       "      <td>1.266580e+12</td>\n",
       "      <td>1.100700e+10</td>\n",
       "      <td>221.0</td>\n",
       "      <td>2.279353</td>\n",
       "      <td>10.0</td>\n",
       "      <td>11983</td>\n",
       "      <td>11923</td>\n",
       "      <td>114675</td>\n",
       "      <td>22595</td>\n",
       "      <td>9.57</td>\n",
       "      <td>104</td>\n",
       "    </tr>\n",
       "    <tr>\n",
       "      <th>Russian Federation</th>\n",
       "      <td>1.385793e+12</td>\n",
       "      <td>1.504071e+12</td>\n",
       "      <td>1.583004e+12</td>\n",
       "      <td>1.459199e+12</td>\n",
       "      <td>1.524917e+12</td>\n",
       "      <td>1.589943e+12</td>\n",
       "      <td>1.645876e+12</td>\n",
       "      <td>1.666934e+12</td>\n",
       "      <td>1.678709e+12</td>\n",
       "      <td>1.616149e+12</td>\n",
       "      <td>3.070900e+10</td>\n",
       "      <td>214.0</td>\n",
       "      <td>17.288680</td>\n",
       "      <td>5.0</td>\n",
       "      <td>18534</td>\n",
       "      <td>18301</td>\n",
       "      <td>34266</td>\n",
       "      <td>12422</td>\n",
       "      <td>1.85</td>\n",
       "      <td>57</td>\n",
       "    </tr>\n",
       "    <tr>\n",
       "      <th>United States</th>\n",
       "      <td>1.479230e+13</td>\n",
       "      <td>1.505540e+13</td>\n",
       "      <td>1.501149e+13</td>\n",
       "      <td>1.459484e+13</td>\n",
       "      <td>1.496437e+13</td>\n",
       "      <td>1.520402e+13</td>\n",
       "      <td>1.554216e+13</td>\n",
       "      <td>1.577367e+13</td>\n",
       "      <td>1.615662e+13</td>\n",
       "      <td>1.654857e+13</td>\n",
       "      <td>9.083800e+10</td>\n",
       "      <td>286.0</td>\n",
       "      <td>11.570980</td>\n",
       "      <td>2.0</td>\n",
       "      <td>96661</td>\n",
       "      <td>94747</td>\n",
       "      <td>792274</td>\n",
       "      <td>265436</td>\n",
       "      <td>8.20</td>\n",
       "      <td>230</td>\n",
       "    </tr>\n",
       "  </tbody>\n",
       "</table>\n",
       "</div>"
      ],
      "text/plain": [
       "                            2006          2007          2008          2009  \\\n",
       "Country                                                                      \n",
       "Australia           1.021939e+12  1.060340e+12  1.099644e+12  1.119654e+12   \n",
       "Brazil              1.845080e+12  1.957118e+12  2.056809e+12  2.054215e+12   \n",
       "Canada              1.564469e+12  1.596740e+12  1.612713e+12  1.565145e+12   \n",
       "China               3.992331e+12  4.559041e+12  4.997775e+12  5.459247e+12   \n",
       "Germany             3.332891e+12  3.441561e+12  3.478809e+12  3.283340e+12   \n",
       "Spain               1.414823e+12  1.468146e+12  1.484530e+12  1.431475e+12   \n",
       "France              2.607840e+12  2.669424e+12  2.674637e+12  2.595967e+12   \n",
       "United Kingdom      2.419631e+12  2.482203e+12  2.470614e+12  2.367048e+12   \n",
       "India               1.265894e+12  1.374865e+12  1.428361e+12  1.549483e+12   \n",
       "Iran                3.895523e+11  4.250646e+11  4.289909e+11  4.389208e+11   \n",
       "Italy               2.202170e+12  2.234627e+12  2.211154e+12  2.089938e+12   \n",
       "Japan               5.496542e+12  5.617036e+12  5.558527e+12  5.251308e+12   \n",
       "South Korea         9.410199e+11  9.924316e+11  1.020510e+12  1.027730e+12   \n",
       "Russian Federation  1.385793e+12  1.504071e+12  1.583004e+12  1.459199e+12   \n",
       "United States       1.479230e+13  1.505540e+13  1.501149e+13  1.459484e+13   \n",
       "\n",
       "                            2010          2011          2012          2013  \\\n",
       "Country                                                                      \n",
       "Australia           1.142251e+12  1.169431e+12  1.211913e+12  1.241484e+12   \n",
       "Brazil              2.208872e+12  2.295245e+12  2.339209e+12  2.409740e+12   \n",
       "Canada              1.613406e+12  1.664087e+12  1.693133e+12  1.730688e+12   \n",
       "China               6.039659e+12  6.612490e+12  7.124978e+12  7.672448e+12   \n",
       "Germany             3.417298e+12  3.542371e+12  3.556724e+12  3.567317e+12   \n",
       "Spain               1.431673e+12  1.417355e+12  1.380216e+12  1.357139e+12   \n",
       "France              2.646995e+12  2.702032e+12  2.706968e+12  2.722567e+12   \n",
       "United Kingdom      2.403504e+12  2.450911e+12  2.479809e+12  2.533370e+12   \n",
       "India               1.708459e+12  1.821872e+12  1.924235e+12  2.051982e+12   \n",
       "Iran                4.677902e+11  4.853309e+11  4.532569e+11  4.445926e+11   \n",
       "Italy               2.125185e+12  2.137439e+12  2.077184e+12  2.040871e+12   \n",
       "Japan               5.498718e+12  5.473738e+12  5.569102e+12  5.644659e+12   \n",
       "South Korea         1.094499e+12  1.134796e+12  1.160809e+12  1.194429e+12   \n",
       "Russian Federation  1.524917e+12  1.589943e+12  1.645876e+12  1.666934e+12   \n",
       "United States       1.496437e+13  1.520402e+13  1.554216e+13  1.577367e+13   \n",
       "\n",
       "                            2014          2015  Energy Supply  \\\n",
       "Country                                                         \n",
       "Australia           1.272520e+12  1.301251e+12   5.386000e+09   \n",
       "Brazil              2.412231e+12  2.319423e+12   1.214900e+10   \n",
       "Canada              1.773486e+12  1.792609e+12   1.043100e+10   \n",
       "China               8.230121e+12  8.797999e+12   1.271910e+11   \n",
       "Germany             3.624386e+12  3.685556e+12   1.326100e+10   \n",
       "Spain               1.375605e+12  1.419821e+12   4.923000e+09   \n",
       "France              2.729632e+12  2.761185e+12   1.059700e+10   \n",
       "United Kingdom      2.605643e+12  2.666333e+12   7.920000e+09   \n",
       "India               2.200617e+12  2.367206e+12   3.319500e+10   \n",
       "Iran                4.639027e+11           NaN   9.172000e+09   \n",
       "Italy               2.033868e+12  2.049316e+12   6.530000e+09   \n",
       "Japan               5.642884e+12  5.669563e+12   1.898400e+10   \n",
       "South Korea         1.234340e+12  1.266580e+12   1.100700e+10   \n",
       "Russian Federation  1.678709e+12  1.616149e+12   3.070900e+10   \n",
       "United States       1.615662e+13  1.654857e+13   9.083800e+10   \n",
       "\n",
       "                    Energy Supply per Capita  % Renewable  Rank  Documents  \\\n",
       "Country                                                                      \n",
       "Australia                              231.0    11.810810  14.0       8831   \n",
       "Brazil                                  59.0    69.648030  15.0       8668   \n",
       "Canada                                 296.0    61.945430   6.0      17899   \n",
       "China                                   93.0    19.754910   1.0     127050   \n",
       "Germany                                165.0    17.901530   7.0      17027   \n",
       "Spain                                  106.0    37.968590  12.0       9428   \n",
       "France                                 166.0    17.020280   9.0      13153   \n",
       "United Kingdom                         124.0    10.600470   4.0      20944   \n",
       "India                                   26.0    14.969080   8.0      15005   \n",
       "Iran                                   119.0     5.707721  13.0       8896   \n",
       "Italy                                  109.0    33.667230  11.0      10964   \n",
       "Japan                                  149.0    10.232820   3.0      30504   \n",
       "South Korea                            221.0     2.279353  10.0      11983   \n",
       "Russian Federation                     214.0    17.288680   5.0      18534   \n",
       "United States                          286.0    11.570980   2.0      96661   \n",
       "\n",
       "                    Citable documents  Citations  Self-citations  \\\n",
       "Country                                                            \n",
       "Australia                        8725      90765           15606   \n",
       "Brazil                           8596      60702           14396   \n",
       "Canada                          17620     215003           40930   \n",
       "China                          126767     597237          411683   \n",
       "Germany                         16831     140566           27426   \n",
       "Spain                            9330     123336           23964   \n",
       "France                          12973     130632           28601   \n",
       "United Kingdom                  20357     206091           37874   \n",
       "India                           14841     128763           37209   \n",
       "Iran                             8819      57470           19125   \n",
       "Italy                           10794     111850           26661   \n",
       "Japan                           30287     223024           61554   \n",
       "South Korea                     11923     114675           22595   \n",
       "Russian Federation              18301      34266           12422   \n",
       "United States                   94747     792274          265436   \n",
       "\n",
       "                    Citations per document  H index  \n",
       "Country                                              \n",
       "Australia                            10.28      107  \n",
       "Brazil                                7.00       86  \n",
       "Canada                               12.01      149  \n",
       "China                                 4.70      138  \n",
       "Germany                               8.26      126  \n",
       "Spain                                13.08      115  \n",
       "France                                9.93      114  \n",
       "United Kingdom                        9.84      139  \n",
       "India                                 8.58      115  \n",
       "Iran                                  6.46       72  \n",
       "Italy                                10.20      106  \n",
       "Japan                                 7.31      134  \n",
       "South Korea                           9.57      104  \n",
       "Russian Federation                    1.85       57  \n",
       "United States                         8.20      230  "
      ]
     },
     "execution_count": 135,
     "metadata": {},
     "output_type": "execute_result"
    }
   ],
   "source": [
    "def answer_one():\n",
    "    \n",
    "    import pandas as pd\n",
    "    \n",
    "    energy = pd.read_excel('Energy Indicators.xls',skiprows = 18,skip_footer = 38,parse_cols = \"C:F\",header = 0,na_values=['...'])\n",
    "\n",
    "    energy.columns = ['Country', 'Energy Supply', 'Energy Supply per Capita', \"% Renewable\"]\n",
    "    \n",
    "    energy['Energy Supply'] = energy['Energy Supply'] * 1000000\n",
    "    energy['Energy Supply per Capita'] = energy['Energy Supply per Capita']\n",
    "    \n",
    "    energy['Country'] = energy['Country'].str.replace(r'\\([^)]*\\)', '')\n",
    "    \n",
    "    energy['Country'] = energy['Country'].str.replace(r'\\d+', '')\n",
    "    energy[\"Country\"] = energy[\"Country\"].map(str.strip)\n",
    "    \n",
    "    energy['Country'] = energy['Country'].replace('United States of America','United States')\n",
    "    energy['Country'] = energy['Country'].replace('Republic of Korea','South Korea')\n",
    "    energy['Country'] = energy['Country'].replace('United Kingdom of Great Britain and Northern Ireland','United Kingdom')\n",
    "    energy['Country'] = energy['Country'].replace('China, Hong Kong Special Administrative Region','Hong Kong')\n",
    "    \n",
    "    GDP = pd.read_csv('world_bank.csv',skiprows = 4)\n",
    "    \n",
    "    GDP['Country Name'] = GDP['Country Name'].replace('Korea, Rep.','South Korea')\n",
    "    GDP['Country Name'] = GDP['Country Name'].replace('Iran, Islamic Rep.','Iran')\n",
    "    GDP['Country Name'] = GDP['Country Name'].replace('Hong Kong SAR, China','Hong Kong')\n",
    "    \n",
    "    GDP.rename(columns={'Country Name': 'Country'}, inplace=True)\n",
    "       \n",
    "    ScimEn = pd.read_excel('scimagojr-3.xlsx')\n",
    "       \n",
    "    keep_cols = ['Country','2006','2007','2008','2009','2010','2011','2012','2013','2014','2015']\n",
    "    GDP = GDP[keep_cols]\n",
    "\n",
    "    ScimEn.Rank = ScimEn.Rank.astype(float)\n",
    "    SciEn_reduced = ScimEn.copy\n",
    "    ScimEn_reduced = ScimEn[ScimEn.Rank <= 15]\n",
    "    \n",
    "    merged_df = pd.merge(pd.merge(GDP,energy,on='Country'),ScimEn_reduced, on='Country', how = 'inner')\n",
    "    \n",
    "    merged_df = merged_df.set_index(['Country'])\n",
    "\n",
    "    return merged_df\n",
    "answer_one()"
   ]
  },
  {
   "cell_type": "markdown",
   "metadata": {},
   "source": [
    "### Question 2 (6.6%)\n",
    "The previous question joined three datasets then reduced this to just the top 15 entries. When you joined the datasets, but before you reduced this to the top 15 items, how many entries did you lose?\n",
    "\n",
    "*This function should return a single number.*"
   ]
  },
  {
   "cell_type": "code",
   "execution_count": 152,
   "metadata": {
    "collapsed": false
   },
   "outputs": [
    {
     "data": {
      "text/plain": [
       "156"
      ]
     },
     "execution_count": 152,
     "metadata": {},
     "output_type": "execute_result"
    }
   ],
   "source": [
    "def answer_two():\n",
    "    \n",
    "    import pandas as pd\n",
    "    \n",
    "    energy = pd.read_excel('Energy Indicators.xls',\n",
    "                           skiprows = 17,\n",
    "                           skip_footer = 38,\n",
    "                           parse_cols = \"C:F\",\n",
    "                           header = 0,\n",
    "                           na_values=['...'])\n",
    "    \n",
    "    energy.columns = ['Country', 'Energy Supply', 'Energy Supply per Capita', \"% Renewable\"]\n",
    "    \n",
    "    energy['Energy Supply'] = energy['Energy Supply'] * 1000000\n",
    "    energy['Energy Supply per Capita'] = energy['Energy Supply per Capita']\n",
    "    \n",
    "    energy['Country'] = energy['Country'].str.replace(r'\\([^)]*\\)', '')\n",
    "    \n",
    "    energy['Country'] = energy['Country'].str.replace(r'\\d+', '')\n",
    "    energy[\"Country\"] = energy[\"Country\"].map(str.strip)\n",
    "    \n",
    "    energy['Country'] = energy['Country'].replace('United States of America','United States')\n",
    "    energy['Country'] = energy['Country'].replace('Republic of Korea','South Korea')\n",
    "    energy['Country'] = energy['Country'].replace('United Kingdom of Great Britain and Northern Ireland','United Kingdom')\n",
    "    energy['Country'] = energy['Country'].replace('China, Hong Kong Special Administrative Region','Hong Kong')\n",
    "    \n",
    "    GDP = pd.read_csv('world_bank.csv',skiprows = 4)\n",
    "    \n",
    "    GDP['Country Name'] = GDP['Country Name'].replace('Korea, Rep.','South Korea')\n",
    "    GDP['Country Name'] = GDP['Country Name'].replace('Iran, Islamic Rep.','Iran')\n",
    "    GDP['Country Name'] = GDP['Country Name'].replace('Hong Kong SAR, China','Hong Kong')\n",
    "    \n",
    "    GDP.rename(columns={'Country Name': 'Country'}, inplace=True)\n",
    "    \n",
    "    ScimEn = pd.read_excel('scimagojr-3.xlsx')\n",
    "\n",
    "    keep_cols = ['Country','2006','2007','2008','2009','2010','2011','2012','2013','2014','2015']\n",
    "    GDP = GDP[keep_cols]\n",
    "    \n",
    "    ScimEn.Rank = ScimEn.Rank.astype(float)\n",
    "    SciEn_reduced = ScimEn.copy\n",
    "    ScimEn_reduced = ScimEn[ScimEn.Rank <= 15]\n",
    "    \n",
    "    \n",
    "    merged_df1 = pd.merge(energy,GDP,on='Country', how = 'inner')\n",
    "    merged_df = pd.merge(merged_df1,ScimEn, on = 'Country',how = 'inner')\n",
    "    \n",
    "    merged_df = merged_df.set_index(['Country'])\n",
    "\n",
    "    merged_df_full1 = pd.merge(GDP,energy,on='Country', how = 'outer')\n",
    "    merged_df_full = pd.merge(merged_df_full1,ScimEn, how = 'outer')\n",
    "    \n",
    "    merged_df_full = merged_df_full.set_index(['Country'])\n",
    "    \n",
    "    lost_rows =  len(merged_df_full) - len(merged_df)\n",
    "    return lost_rows\n",
    "\n",
    "answer_two()"
   ]
  },
  {
   "cell_type": "markdown",
   "metadata": {},
   "source": [
    "### Question 3 (6.6%)\n",
    "What are the top 15 countries for average GDP over the last 10 years?\n",
    "\n",
    "*This function should return a Series named `avgGDP` with 15 countries and their average GDP sorted in descending order.*"
   ]
  },
  {
   "cell_type": "code",
   "execution_count": 134,
   "metadata": {
    "collapsed": false,
    "scrolled": true
   },
   "outputs": [
    {
     "data": {
      "text/plain": [
       "Country\n",
       "United States         1.536434e+13\n",
       "China                 6.348609e+12\n",
       "Japan                 5.542208e+12\n",
       "Germany               3.493025e+12\n",
       "France                2.681725e+12\n",
       "United Kingdom        2.487907e+12\n",
       "Brazil                2.189794e+12\n",
       "Italy                 2.120175e+12\n",
       "India                 1.769297e+12\n",
       "Canada                1.660647e+12\n",
       "Russian Federation    1.565459e+12\n",
       "Spain                 1.418078e+12\n",
       "Australia             1.164043e+12\n",
       "South Korea           1.106715e+12\n",
       "Iran                  4.441558e+11\n",
       "Name: avgGDP, dtype: float64"
      ]
     },
     "execution_count": 134,
     "metadata": {},
     "output_type": "execute_result"
    }
   ],
   "source": [
    "def answer_three():\n",
    "    Top15 = answer_one()\n",
    "    \n",
    "    Top15['avgGDP'] = Top15[[\"2006\", \"2007\", \"2008\", \"2009\",\"2010\",\"2011\",\n",
    "                    \"2012\",\"2013\",\"2014\",\"2015\"]].mean(axis=1)\n",
    "    \n",
    "    \n",
    "    Top15 = Top15.sort_values(by = 'avgGDP',ascending = False)\n",
    "    \n",
    "    avgGDP = Top15['avgGDP']\n",
    "    \n",
    "    return avgGDP\n",
    "answer_three()"
   ]
  },
  {
   "cell_type": "markdown",
   "metadata": {},
   "source": [
    "### Question 4 (6.6%)\n",
    "By how much had the GDP changed over the 10 year span for the country with the 6th largest average GDP?\n",
    "\n",
    "*This function should return a single number.*"
   ]
  },
  {
   "cell_type": "code",
   "execution_count": 35,
   "metadata": {
    "collapsed": false,
    "scrolled": true
   },
   "outputs": [
    {
     "data": {
      "text/plain": [
       "246702696075.3999"
      ]
     },
     "execution_count": 35,
     "metadata": {},
     "output_type": "execute_result"
    }
   ],
   "source": [
    "def answer_four():\n",
    "    Top15 = answer_one()\n",
    "    Top15['avgGDP'] = Top15[[\"2006\", \"2007\", \"2008\", \"2009\",\"2010\",\"2011\",\n",
    "                    \"2012\",\"2013\",\"2014\",\"2015\"]].mean(axis=1)\n",
    "    Top15 = Top15.sort_values(by = 'avgGDP',ascending = False)\n",
    "    sixth_largest = Top15.ix[5]\n",
    "    return sixth_largest['2015'] - sixth_largest['2006']\n",
    "answer_four()"
   ]
  },
  {
   "cell_type": "markdown",
   "metadata": {},
   "source": [
    "### Question 5 (6.6%)\n",
    "What is the mean energy supply per capita?\n",
    "\n",
    "*This function should return a single number.*"
   ]
  },
  {
   "cell_type": "code",
   "execution_count": 137,
   "metadata": {
    "collapsed": false
   },
   "outputs": [
    {
     "data": {
      "text/plain": [
       "157600000.0"
      ]
     },
     "execution_count": 137,
     "metadata": {},
     "output_type": "execute_result"
    }
   ],
   "source": [
    "def answer_five():\n",
    "    Top15 = answer_one()\n",
    "    energy_supply = Top15['Energy Supply per Capita']\n",
    "\n",
    "    return energy_supply.mean()\n",
    "    \n",
    "answer_five()"
   ]
  },
  {
   "cell_type": "markdown",
   "metadata": {},
   "source": [
    "### Question 6 (6.6%)\n",
    "What country has the maximum % Renewable and what is the percentage?\n",
    "\n",
    "*This function should return a tuple with the name of the country and the percentage.*"
   ]
  },
  {
   "cell_type": "code",
   "execution_count": 59,
   "metadata": {
    "collapsed": false
   },
   "outputs": [
    {
     "data": {
      "text/plain": [
       "('Brazil', 69.648030000000006)"
      ]
     },
     "execution_count": 59,
     "metadata": {},
     "output_type": "execute_result"
    }
   ],
   "source": [
    "def answer_six():\n",
    "    \n",
    "    import pandas as pd\n",
    "    \n",
    "    Top15 = answer_one()\n",
    "    max_perc_renewable = Top15[[\"% Renewable\"]].idxmax(axis=0)\n",
    "    \n",
    "    max_all = Top15.ix[max_perc_renewable]\n",
    "    max_all.reset_index(inplace = True)\n",
    "\n",
    "    subset = max_all[['Country', '% Renewable']]\n",
    "    List1 = subset['Country'].tolist()\n",
    "    List2 = subset['% Renewable'].tolist()\n",
    "    List3 = List1 + List2\n",
    "    \n",
    "    return tuple(List3)\n",
    "answer_six()"
   ]
  },
  {
   "cell_type": "markdown",
   "metadata": {},
   "source": [
    "### Question 7 (6.6%)\n",
    "Create a new column that is the ratio of Self-Citations to Total Citations. \n",
    "What is the maximum value for this new column, and what country has the highest ratio?\n",
    "\n",
    "*This function should return a tuple with the name of the country and the ratio.*"
   ]
  },
  {
   "cell_type": "code",
   "execution_count": 60,
   "metadata": {
    "collapsed": false
   },
   "outputs": [
    {
     "data": {
      "text/plain": [
       "('China', 0.68931261793894216)"
      ]
     },
     "execution_count": 60,
     "metadata": {},
     "output_type": "execute_result"
    }
   ],
   "source": [
    "def answer_seven():\n",
    "    Top15 = answer_one()\n",
    "    \n",
    "    Top15['ratio'] = Top15['Self-citations'] / Top15['Citations']\n",
    "    max_ratio = Top15[[\"ratio\"]].idxmax(axis=0)\n",
    "    \n",
    "    max_all = Top15.ix[max_ratio]\n",
    "    max_all.reset_index(inplace = True)\n",
    "\n",
    "    subset = max_all[['Country', 'ratio']]\n",
    "    List1 = subset['Country'].tolist()\n",
    "    List2 = subset['ratio'].tolist()\n",
    "    List3 = List1 + List2\n",
    "    \n",
    "    return tuple(List3)\n",
    "answer_seven()"
   ]
  },
  {
   "cell_type": "markdown",
   "metadata": {},
   "source": [
    "### Question 8 (6.6%)\n",
    "\n",
    "Create a column that estimates the population using Energy Supply and Energy Supply per capita. \n",
    "What is the third most populous country according to this estimate?\n",
    "\n",
    "*This function should return a single string value.*"
   ]
  },
  {
   "cell_type": "code",
   "execution_count": 142,
   "metadata": {
    "collapsed": false
   },
   "outputs": [
    {
     "data": {
      "text/plain": [
       "'United States'"
      ]
     },
     "execution_count": 142,
     "metadata": {},
     "output_type": "execute_result"
    }
   ],
   "source": [
    "def answer_eight():\n",
    "    Top15 = answer_one()\n",
    "    Top15['pop_est'] = Top15['Energy Supply'] / Top15['Energy Supply per Capita']\n",
    "    Top15 = Top15.sort_values(by = 'pop_est',ascending = False)\n",
    "    return Top15.index[2]\n",
    "\n",
    "answer_eight()"
   ]
  },
  {
   "cell_type": "markdown",
   "metadata": {},
   "source": [
    "### Question 9 (6.6%)\n",
    "Create a column that estimates the number of citable documents per person. \n",
    "What is the correlation between the number of citable documents per capita and the energy supply per capita?\n",
    "\n",
    "*This function should return a single number.*\n",
    "\n",
    "*(Optional: Use the built-in function `plot9()` to visualize the relationship between Energy Supply per Capita vs. Citable docs per Capita).*"
   ]
  },
  {
   "cell_type": "code",
   "execution_count": 143,
   "metadata": {
    "collapsed": false
   },
   "outputs": [
    {
     "data": {
      "text/plain": [
       "0.79400104354429457"
      ]
     },
     "execution_count": 143,
     "metadata": {},
     "output_type": "execute_result"
    }
   ],
   "source": [
    "def answer_nine():\n",
    "    Top15 = answer_one()\n",
    "    Top15['PopEst'] = Top15['Energy Supply'] / Top15['Energy Supply per Capita']\n",
    "    Top15['Citable docs per Capita'] = Top15['Citable documents'] / Top15['PopEst']\n",
    "    corr_vars = Top15[['Citable docs per Capita', 'Energy Supply per Capita']]\n",
    "    corr_output = corr_vars.corr()\n",
    "    \n",
    "    return corr_output.loc['Citable docs per Capita','Energy Supply per Capita']\n",
    "answer_nine()"
   ]
  },
  {
   "cell_type": "code",
   "execution_count": 144,
   "metadata": {
    "collapsed": false
   },
   "outputs": [],
   "source": [
    "def plot9():\n",
    "    import matplotlib as plt\n",
    "    %matplotlib inline\n",
    "    \n",
    "    Top15 = answer_one()\n",
    "    Top15['PopEst'] = Top15['Energy Supply'] / Top15['Energy Supply per Capita']\n",
    "    Top15['Citable docs per Capita'] = Top15['Citable documents'] / Top15['PopEst']\n",
    "    Top15.plot(x='Citable docs per Capita', y='Energy Supply per Capita', kind='scatter', xlim=[0, 0.0006])"
   ]
  },
  {
   "cell_type": "code",
   "execution_count": 145,
   "metadata": {
    "collapsed": false
   },
   "outputs": [
    {
     "data": {
      "image/png": "[encoded data removed]",
      "text/plain": [
       "<matplotlib.figure.Figure at 0x112bac828>"
      ]
     },
     "metadata": {},
     "output_type": "display_data"
    }
   ],
   "source": [
    "#plot9()"
   ]
  },
  {
   "cell_type": "markdown",
   "metadata": {},
   "source": [
    "### Question 10 (6.6%)\n",
    "Create a new column with a 1 if the country's % Renewable value is at or above the median for all countries in the top 15.\n",
    "\n",
    "*This function should return a series named `HighRenew` whose index is the country name sorted in ascending order of rank.*"
   ]
  },
  {
   "cell_type": "code",
   "execution_count": 69,
   "metadata": {
    "collapsed": false
   },
   "outputs": [
    {
     "data": {
      "text/plain": [
       "Country\n",
       "China                 1\n",
       "United States         0\n",
       "Japan                 0\n",
       "United Kingdom        0\n",
       "Russian Federation    1\n",
       "Canada                1\n",
       "Germany               1\n",
       "India                 0\n",
       "France                1\n",
       "South Korea           0\n",
       "Italy                 1\n",
       "Spain                 1\n",
       "Iran                  0\n",
       "Australia             0\n",
       "Brazil                1\n",
       "Name: HighRenew, dtype: int64"
      ]
     },
     "execution_count": 69,
     "metadata": {},
     "output_type": "execute_result"
    }
   ],
   "source": [
    "def answer_ten():\n",
    "    import numpy as np\n",
    "    \n",
    "    Top15 = answer_one()\n",
    "    renewable_perc = Top15[\"% Renewable\"].to_frame()\n",
    "    \n",
    "    median = renewable_perc.median()\n",
    "    median = median.iloc[0]\n",
    "    \n",
    "    Top15['HighRenew'] = np.where(Top15[\"% Renewable\"]>=median, 1, 0)\n",
    "    Top15 = Top15.sort_values(by = 'Rank',ascending = True)\n",
    "    \n",
    "    HighRenew = Top15['HighRenew']\n",
    "    \n",
    "    return HighRenew\n",
    "\n",
    "answer_ten()"
   ]
  },
  {
   "cell_type": "markdown",
   "metadata": {},
   "source": [
    "### Question 11 (6.6%)\n",
    "Use the following dictionary to group the Countries by Continent, then create a dateframe that displays the sample size (the number of countries in each continent bin), and the sum, mean, and std deviation for the estimated population of each country.\n",
    "\n",
    "```python\n",
    "ContinentDict  = {'China':'Asia', \n",
    "                  'United States':'North America', \n",
    "                  'Japan':'Asia', \n",
    "                  'United Kingdom':'Europe', \n",
    "                  'Russian Federation':'Europe', \n",
    "                  'Canada':'North America', \n",
    "                  'Germany':'Europe', \n",
    "                  'India':'Asia',\n",
    "                  'France':'Europe', \n",
    "                  'South Korea':'Asia', \n",
    "                  'Italy':'Europe', \n",
    "                  'Spain':'Europe', \n",
    "                  'Iran':'Asia',\n",
    "                  'Australia':'Australia', \n",
    "                  'Brazil':'South America'}\n",
    "```\n",
    "\n",
    "*This function should return a DataFrame with index named Continent `['Asia', 'Australia', 'Europe', 'North America', 'South America']` and columns `['size', 'sum', 'mean', 'std']`*"
   ]
  },
  {
   "cell_type": "code",
   "execution_count": 86,
   "metadata": {
    "collapsed": false
   },
   "outputs": [
    {
     "data": {
      "text/html": [
       "<div>\n",
       "<table border=\"1\" class=\"dataframe\">\n",
       "  <thead>\n",
       "    <tr style=\"text-align: right;\">\n",
       "      <th></th>\n",
       "      <th>size</th>\n",
       "      <th>sum</th>\n",
       "      <th>mean</th>\n",
       "      <th>std</th>\n",
       "    </tr>\n",
       "    <tr>\n",
       "      <th>Continent</th>\n",
       "      <th></th>\n",
       "      <th></th>\n",
       "      <th></th>\n",
       "      <th></th>\n",
       "    </tr>\n",
       "  </thead>\n",
       "  <tbody>\n",
       "    <tr>\n",
       "      <th>Asia</th>\n",
       "      <td>5.0</td>\n",
       "      <td>2898.666387</td>\n",
       "      <td>579.733277</td>\n",
       "      <td>679.097888</td>\n",
       "    </tr>\n",
       "    <tr>\n",
       "      <th>Australia</th>\n",
       "      <td>1.0</td>\n",
       "      <td>23.316017</td>\n",
       "      <td>23.316017</td>\n",
       "      <td>NaN</td>\n",
       "    </tr>\n",
       "    <tr>\n",
       "      <th>Europe</th>\n",
       "      <td>6.0</td>\n",
       "      <td>457.929667</td>\n",
       "      <td>76.321611</td>\n",
       "      <td>34.647667</td>\n",
       "    </tr>\n",
       "    <tr>\n",
       "      <th>North America</th>\n",
       "      <td>2.0</td>\n",
       "      <td>352.855249</td>\n",
       "      <td>176.427625</td>\n",
       "      <td>199.669645</td>\n",
       "    </tr>\n",
       "    <tr>\n",
       "      <th>South America</th>\n",
       "      <td>1.0</td>\n",
       "      <td>205.915254</td>\n",
       "      <td>205.915254</td>\n",
       "      <td>NaN</td>\n",
       "    </tr>\n",
       "  </tbody>\n",
       "</table>\n",
       "</div>"
      ],
      "text/plain": [
       "               size          sum        mean         std\n",
       "Continent                                               \n",
       "Asia            5.0  2898.666387  579.733277  679.097888\n",
       "Australia       1.0    23.316017   23.316017         NaN\n",
       "Europe          6.0   457.929667   76.321611   34.647667\n",
       "North America   2.0   352.855249  176.427625  199.669645\n",
       "South America   1.0   205.915254  205.915254         NaN"
      ]
     },
     "execution_count": 86,
     "metadata": {},
     "output_type": "execute_result"
    }
   ],
   "source": [
    "def answer_eleven():\n",
    "    \n",
    "    import pandas as pd\n",
    "    import numpy as np\n",
    "    \n",
    "    Top15 = answer_one()\n",
    "    \n",
    "    Continents = {'Country': ['China', 'United States', 'Japan','United Kingdom',\n",
    "                             'Russian Federation','Canada','Germany','India','France','South Korea',\n",
    "                             'Italy','Spain','Iran','Australia','Brazil'],\n",
    "                  'Continent': ['Asia','North America','Asia','Europe','Europe','North America',\n",
    "                               'Europe','Asia','Europe','Asia','Europe','Europe','Asia',\n",
    "                               'Australia','South America']}\n",
    "    \n",
    "    Continents_df = pd.DataFrame(Continents)\n",
    "    Continents_df = Continents_df\n",
    "    Continents_df.set_index(['Country'], inplace = True)\n",
    "    \n",
    "    Top15 = pd.merge(Top15,Continents_df,left_index = True, right_index = True, how = 'inner')\n",
    "    Top15['PopEst'] = Top15['Energy Supply'] / Top15['Energy Supply per Capita']\n",
    "    \n",
    "    ans = Top15.set_index('Continent').groupby(level=0)['PopEst'].agg({'size': np.size, 'sum': np.sum, 'mean': np.mean,'std': np.std})\n",
    "\n",
    "    ans = ans[['size', 'sum', 'mean', 'std']]\n",
    "\n",
    "    return ans\n",
    "\n",
    "answer_eleven()"
   ]
  },
  {
   "cell_type": "markdown",
   "metadata": {},
   "source": [
    "### Question 12 (6.6%)\n",
    "Cut % Renewable into 5 bins. Group Top15 by the Continent, as well as these new % Renewable bins. How many countries are in each of these groups?\n",
    "\n",
    "*This function should return a Series with a MultiIndex of `Continent`, then the bins for `% Renewable`. Do not include groups with no countries.*"
   ]
  },
  {
   "cell_type": "code",
   "execution_count": 92,
   "metadata": {
    "collapsed": false,
    "scrolled": true
   },
   "outputs": [
    {
     "data": {
      "text/plain": [
       "Continent      quantile_perc_renewable\n",
       "Asia           (2.212, 15.753]            4\n",
       "               (15.753, 29.227]           1\n",
       "Australia      (2.212, 15.753]            1\n",
       "Europe         (2.212, 15.753]            1\n",
       "               (15.753, 29.227]           3\n",
       "               (29.227, 42.701]           2\n",
       "North America  (2.212, 15.753]            1\n",
       "               (56.174, 69.648]           1\n",
       "South America  (56.174, 69.648]           1\n",
       "dtype: int64"
      ]
     },
     "execution_count": 92,
     "metadata": {},
     "output_type": "execute_result"
    }
   ],
   "source": [
    "def answer_twelve():\n",
    "    \n",
    "    import pandas as pd\n",
    "    \n",
    "    Top15 = answer_one()\n",
    "    \n",
    "    \n",
    "    Continents = {'Country': ['China', 'United States', 'Japan','United Kingdom',\n",
    "                             'Russian Federation','Canada','Germany','India','France','South Korea',\n",
    "                             'Italy','Spain','Iran','Australia','Brazil'],\n",
    "                  'Continent': ['Asia','North America','Asia','Europe','Europe','North America',\n",
    "                               'Europe','Asia','Europe','Asia','Europe','Europe','Asia',\n",
    "                               'Australia','South America']}\n",
    "    \n",
    "    Continents_df = pd.DataFrame(Continents)\n",
    "    Continents_df = Continents_df\n",
    "    Continents_df.set_index(['Country'], inplace = True)\n",
    "    \n",
    "    Top15 = pd.merge(Top15,Continents_df,left_index = True, right_index = True, how = 'inner')\n",
    "    \n",
    "    quantiles = pd.cut(Top15[\"% Renewable\"],5).to_frame()\n",
    "    quantiles.columns = [\"quantile_perc_renewable\"]\n",
    "    Top15 = pd.merge(Top15,quantiles,left_index = True, right_index = True, how = 'inner')\n",
    "    \n",
    "    result = Top15.groupby(['Continent','quantile_perc_renewable']).size()\n",
    "    \n",
    "    return result\n",
    "\n",
    "answer_twelve()"
   ]
  },
  {
   "cell_type": "markdown",
   "metadata": {},
   "source": [
    "### Question 13 (6.6%)\n",
    "Convert the Population Estimate series to a string with thousands separator (using commas)\n",
    "\n",
    "e.g. 12345678.90 -> 12,345,678.90\n",
    "\n",
    "*This function should return a Series `PopEst` whose index is the country name and whose values are the population estimate string.*"
   ]
  },
  {
   "cell_type": "code",
   "execution_count": 102,
   "metadata": {
    "collapsed": false,
    "scrolled": true
   },
   "outputs": [
    {
     "data": {
      "text/plain": [
       "Country\n",
       "Australia              23.316017316017316\n",
       "Brazil                 205.91525423728814\n",
       "Canada                  35.23986486486486\n",
       "China                 1,367.6451612903227\n",
       "Germany                 80.36969696969697\n",
       "Spain                  46.443396226415096\n",
       "France                  63.83734939759036\n",
       "United Kingdom          63.87096774193548\n",
       "India                 1,276.7307692307693\n",
       "Iran                    77.07563025210084\n",
       "Italy                  59.908256880733944\n",
       "Japan                  127.40939597315436\n",
       "South Korea             49.80542986425339\n",
       "Russian Federation                  143.5\n",
       "United States          317.61538461538464\n",
       "Name: PopEst_format, dtype: object"
      ]
     },
     "execution_count": 102,
     "metadata": {},
     "output_type": "execute_result"
    }
   ],
   "source": [
    "def answer_thirteen():\n",
    "\n",
    "    import numpy as np\n",
    "    Top15 = answer_one()\n",
    "    \n",
    "    Top15['PopEst'] = Top15['Energy Supply'] / Top15['Energy Supply per Capita']\n",
    "    \n",
    "    Top15['PopEst_format'] = Top15['PopEst'].apply(lambda x: '{0:,}'.format(x))\n",
    "    Top15['PopEst_format'].apply(str)\n",
    "    \n",
    "    PopEst = Top15['PopEst_format']\n",
    "    \n",
    "    return PopEst\n",
    "\n",
    "answer_thirteen()"
   ]
  },
  {
   "cell_type": "markdown",
   "metadata": {},
   "source": [
    "### Optional\n",
    "\n",
    "Use the built in function `plot_optional()` to see an example visualization."
   ]
  },
  {
   "cell_type": "code",
   "execution_count": 232,
   "metadata": {
    "collapsed": false,
    "scrolled": true
   },
   "outputs": [],
   "source": [
    "def plot_optional():\n",
    "    import matplotlib as plt\n",
    "    %matplotlib inline\n",
    "    ax = Top15.plot(x='Rank', y='% Renewable', kind='scatter', \n",
    "                    c=['#e41a1c','#377eb8','#e41a1c','#4daf4a','#4daf4a','#377eb8','#4daf4a','#e41a1c',\n",
    "                       '#4daf4a','#e41a1c','#4daf4a','#4daf4a','#e41a1c','#dede00','#ff7f00'], \n",
    "                    xticks=range(1,16), s=6*Top15['2014']/10**10, alpha=.75, figsize=[16,6]);\n",
    "\n",
    "    for i, txt in enumerate(Top15.index):\n",
    "        ax.annotate(txt, [Top15['Rank'][i], Top15['% Renewable'][i]], ha='center')\n",
    "\n",
    "    print(\"This is an example of a visualization that can be created to help understand the data. \\\n",
    "This is a bubble chart showing % Renewable vs. Rank. The size of the bubble corresponds to the countries' \\\n",
    "2014 GDP, and the color corresponds to the continent.\")"
   ]
  },
  {
   "cell_type": "code",
   "execution_count": 233,
   "metadata": {
    "collapsed": false
   },
   "outputs": [],
   "source": [
    "#plot_optional()"
   ]
  },
  {
   "cell_type": "code",
   "execution_count": null,
   "metadata": {
    "collapsed": true
   },
   "outputs": [],
   "source": []
  },
  {
   "cell_type": "code",
   "execution_count": null,
   "metadata": {
    "collapsed": true
   },
   "outputs": [],
   "source": []
  }
 ],
 "metadata": {
  "anaconda-cloud": {},
  "coursera": {
   "course_slug": "python-data-analysis",
   "graded_item_id": "zAr06",
   "launcher_item_id": "KSSjT",
   "part_id": "SL3fU"
  },
  "kernelspec": {
   "display_name": "Python [default]",
   "language": "python",
   "name": "python3"
  },
  "language_info": {
   "codemirror_mode": {
    "name": "ipython",
    "version": 3
   },
   "file_extension": ".py",
   "mimetype": "text/x-python",
   "name": "python",
   "nbconvert_exporter": "python",
   "pygments_lexer": "ipython3",
   "version": "3.5.2"
  }
 },
 "nbformat": 4,
 "nbformat_minor": 0
}
